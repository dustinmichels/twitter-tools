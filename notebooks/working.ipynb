{
 "cells": [
  {
   "cell_type": "code",
   "execution_count": 2,
   "metadata": {},
   "outputs": [],
   "source": [
    "import json\n",
    "import os\n",
    "import sys\n",
    "import random\n",
    "\n",
    "import pandas as pd\n",
    "from tqdm import tqdm"
   ]
  },
  {
   "cell_type": "code",
   "execution_count": 3,
   "metadata": {},
   "outputs": [],
   "source": [
    "# %load_ext autoreload\n",
    "# %autoreload 2\n",
    "\n",
    "sys.path.insert(0, \"..\")\n",
    "from twittertools.geocode import (\n",
    "    load_friends_data, load_city_data, load_state_data,\n",
    "    geocode_simplemaps, lookup_index, test,\n",
    ")"
   ]
  },
  {
   "cell_type": "markdown",
   "metadata": {},
   "source": [
    "## Geocode with SimpleMaps"
   ]
  },
  {
   "cell_type": "code",
   "execution_count": 4,
   "metadata": {},
   "outputs": [
    {
     "data": {
      "text/plain": [
       "1884"
      ]
     },
     "execution_count": 4,
     "metadata": {},
     "output_type": "execute_result"
    }
   ],
   "source": [
    "data = load_friends_data()\n",
    "len(data)"
   ]
  },
  {
   "cell_type": "code",
   "execution_count": 5,
   "metadata": {},
   "outputs": [],
   "source": [
    "# s = pd.Series(data)\n",
    "# data = list(s.sample(n=1000))\n",
    "# len(data)"
   ]
  },
  {
   "cell_type": "code",
   "execution_count": 6,
   "metadata": {},
   "outputs": [
    {
     "name": "stderr",
     "output_type": "stream",
     "text": [
      "100%|██████████| 1884/1884 [00:11<00:00, 157.37it/s]\n"
     ]
    }
   ],
   "source": [
    "data_coded = []\n",
    "for screen_name, location in tqdm(data):\n",
    "    res = geocode_simplemaps(location)\n",
    "    city, country = lookup_index(res)  # could return (None, None)\n",
    "    data_coded.append(\n",
    "        dict(screen_name=screen_name, location=location, city=city, country=country)\n",
    "    )\n",
    "res_df = pd.DataFrame(data_coded)"
   ]
  },
  {
   "cell_type": "markdown",
   "metadata": {},
   "source": [
    "### Compute Scores"
   ]
  },
  {
   "cell_type": "code",
   "execution_count": 7,
   "metadata": {},
   "outputs": [
    {
     "name": "stdout",
     "output_type": "stream",
     "text": [
      "Including empty:\n",
      "Success: 922/1884 = 48.94%\n",
      "\n",
      "Excluding empty:\n",
      "Success: 922/1482 = 62.21%\n"
     ]
    }
   ],
   "source": [
    "SCORES = []\n",
    "\n",
    "numerator = len(res_df[~res_df['country'].isna()])\n",
    "denomiator = len(res_df['country'])\n",
    "\n",
    "# without nas\n",
    "res_df_dropna = res_df[res_df['location'] != \"\"]\n",
    "numerator2 = len(res_df_dropna[~res_df_dropna['country'].isna()])\n",
    "denomiator2 = len(res_df_dropna['country'])\n",
    "\n",
    "print(\"Including empty:\")\n",
    "print(f\"Success: {numerator}/{denomiator} = \" + \"{:.2%}\".format(numerator / denomiator))\n",
    "\n",
    "print(\"\\nExcluding empty:\")\n",
    "print(f\"Success: {numerator2}/{denomiator2} = \" + \"{:.2%}\".format(numerator2 / denomiator2))\n",
    "\n",
    "SCORES.append(numerator2 / denomiator2)"
   ]
  },
  {
   "cell_type": "code",
   "execution_count": null,
   "metadata": {},
   "outputs": [],
   "source": []
  },
  {
   "cell_type": "code",
   "execution_count": 7,
   "metadata": {},
   "outputs": [],
   "source": [
    "# df_cities[df_cities['city'].str.contains(\"st.\", regex=False)]"
   ]
  },
  {
   "cell_type": "code",
   "execution_count": 12,
   "metadata": {},
   "outputs": [
    {
     "data": {
      "text/plain": [
       "560"
      ]
     },
     "execution_count": 12,
     "metadata": {},
     "output_type": "execute_result"
    }
   ],
   "source": [
    "missed = res_df_dropna[res_df_dropna['country'].isna()]\n",
    "len(missed)"
   ]
  },
  {
   "cell_type": "code",
   "execution_count": 13,
   "metadata": {},
   "outputs": [
    {
     "data": {
      "text/html": [
       "<div>\n",
       "<style scoped>\n",
       "    .dataframe tbody tr th:only-of-type {\n",
       "        vertical-align: middle;\n",
       "    }\n",
       "\n",
       "    .dataframe tbody tr th {\n",
       "        vertical-align: top;\n",
       "    }\n",
       "\n",
       "    .dataframe thead th {\n",
       "        text-align: right;\n",
       "    }\n",
       "</style>\n",
       "<table border=\"1\" class=\"dataframe\">\n",
       "  <thead>\n",
       "    <tr style=\"text-align: right;\">\n",
       "      <th></th>\n",
       "      <th>screen_name</th>\n",
       "      <th>location</th>\n",
       "      <th>city</th>\n",
       "      <th>country</th>\n",
       "    </tr>\n",
       "  </thead>\n",
       "  <tbody>\n",
       "    <tr>\n",
       "      <th>94</th>\n",
       "      <td>eliquorice</td>\n",
       "      <td>Beach City</td>\n",
       "      <td>None</td>\n",
       "      <td>None</td>\n",
       "    </tr>\n",
       "    <tr>\n",
       "      <th>1112</th>\n",
       "      <td>jtauber</td>\n",
       "      <td>Esperance / Perth / Boston</td>\n",
       "      <td>None</td>\n",
       "      <td>None</td>\n",
       "    </tr>\n",
       "    <tr>\n",
       "      <th>308</th>\n",
       "      <td>suneelgokhale</td>\n",
       "      <td>United Arab Emirates</td>\n",
       "      <td>None</td>\n",
       "      <td>None</td>\n",
       "    </tr>\n",
       "    <tr>\n",
       "      <th>393</th>\n",
       "      <td>NASAPersevere</td>\n",
       "      <td>Jezero Crater, Mars</td>\n",
       "      <td>None</td>\n",
       "      <td>None</td>\n",
       "    </tr>\n",
       "    <tr>\n",
       "      <th>301</th>\n",
       "      <td>EndowCapital</td>\n",
       "      <td>Europe, Africa</td>\n",
       "      <td>None</td>\n",
       "      <td>None</td>\n",
       "    </tr>\n",
       "    <tr>\n",
       "      <th>1145</th>\n",
       "      <td>akronisticlotor</td>\n",
       "      <td>On the 72R</td>\n",
       "      <td>None</td>\n",
       "      <td>None</td>\n",
       "    </tr>\n",
       "    <tr>\n",
       "      <th>1843</th>\n",
       "      <td>gutenberg_org</td>\n",
       "      <td>University of North Carolina</td>\n",
       "      <td>None</td>\n",
       "      <td>None</td>\n",
       "    </tr>\n",
       "    <tr>\n",
       "      <th>580</th>\n",
       "      <td>LeonYin</td>\n",
       "      <td>www</td>\n",
       "      <td>None</td>\n",
       "      <td>None</td>\n",
       "    </tr>\n",
       "    <tr>\n",
       "      <th>763</th>\n",
       "      <td>warmshowers</td>\n",
       "      <td>worldwide</td>\n",
       "      <td>None</td>\n",
       "      <td>None</td>\n",
       "    </tr>\n",
       "    <tr>\n",
       "      <th>228</th>\n",
       "      <td>running_tide</td>\n",
       "      <td>Casco Bay, Maine</td>\n",
       "      <td>None</td>\n",
       "      <td>None</td>\n",
       "    </tr>\n",
       "    <tr>\n",
       "      <th>1763</th>\n",
       "      <td>Ettema_lab</td>\n",
       "      <td>Wageningen</td>\n",
       "      <td>None</td>\n",
       "      <td>None</td>\n",
       "    </tr>\n",
       "    <tr>\n",
       "      <th>281</th>\n",
       "      <td>southpoleglobal</td>\n",
       "      <td>Global</td>\n",
       "      <td>None</td>\n",
       "      <td>None</td>\n",
       "    </tr>\n",
       "    <tr>\n",
       "      <th>362</th>\n",
       "      <td>VanessaBBastos</td>\n",
       "      <td>St Andrews,  Scotland</td>\n",
       "      <td>None</td>\n",
       "      <td>None</td>\n",
       "    </tr>\n",
       "    <tr>\n",
       "      <th>490</th>\n",
       "      <td>maciej_jerzy</td>\n",
       "      <td>Leyden, The Netherlands</td>\n",
       "      <td>None</td>\n",
       "      <td>None</td>\n",
       "    </tr>\n",
       "    <tr>\n",
       "      <th>1766</th>\n",
       "      <td>firefox</td>\n",
       "      <td>All over the world</td>\n",
       "      <td>None</td>\n",
       "      <td>None</td>\n",
       "    </tr>\n",
       "    <tr>\n",
       "      <th>106</th>\n",
       "      <td>pythonwebconf</td>\n",
       "      <td>Everywhere</td>\n",
       "      <td>None</td>\n",
       "      <td>None</td>\n",
       "    </tr>\n",
       "    <tr>\n",
       "      <th>748</th>\n",
       "      <td>cool_effect</td>\n",
       "      <td>Greenbrae, CA</td>\n",
       "      <td>None</td>\n",
       "      <td>None</td>\n",
       "    </tr>\n",
       "    <tr>\n",
       "      <th>1737</th>\n",
       "      <td>ShapeShift_io</td>\n",
       "      <td>✨🌎🌍🌏✨</td>\n",
       "      <td>None</td>\n",
       "      <td>None</td>\n",
       "    </tr>\n",
       "    <tr>\n",
       "      <th>255</th>\n",
       "      <td>DmitryTrofimov</td>\n",
       "      <td>München, Bayern</td>\n",
       "      <td>None</td>\n",
       "      <td>None</td>\n",
       "    </tr>\n",
       "    <tr>\n",
       "      <th>140</th>\n",
       "      <td>rastrau</td>\n",
       "      <td>Switzerland, ZH×SG</td>\n",
       "      <td>None</td>\n",
       "      <td>None</td>\n",
       "    </tr>\n",
       "    <tr>\n",
       "      <th>1819</th>\n",
       "      <td>wetherallm1</td>\n",
       "      <td>Saint Paul, MN</td>\n",
       "      <td>None</td>\n",
       "      <td>None</td>\n",
       "    </tr>\n",
       "    <tr>\n",
       "      <th>1441</th>\n",
       "      <td>SenatorMeow</td>\n",
       "      <td>Flavortown Autonomous Zone</td>\n",
       "      <td>None</td>\n",
       "      <td>None</td>\n",
       "    </tr>\n",
       "    <tr>\n",
       "      <th>1382</th>\n",
       "      <td>ProfBrianCox</td>\n",
       "      <td>The Earth, with everyone else</td>\n",
       "      <td>None</td>\n",
       "      <td>None</td>\n",
       "    </tr>\n",
       "    <tr>\n",
       "      <th>313</th>\n",
       "      <td>dsaezgil</td>\n",
       "      <td>California, USA</td>\n",
       "      <td>None</td>\n",
       "      <td>None</td>\n",
       "    </tr>\n",
       "    <tr>\n",
       "      <th>1009</th>\n",
       "      <td>glasnt</td>\n",
       "      <td>Eora Country</td>\n",
       "      <td>None</td>\n",
       "      <td>None</td>\n",
       "    </tr>\n",
       "    <tr>\n",
       "      <th>1741</th>\n",
       "      <td>iamdevloper</td>\n",
       "      <td>UK</td>\n",
       "      <td>None</td>\n",
       "      <td>None</td>\n",
       "    </tr>\n",
       "    <tr>\n",
       "      <th>1557</th>\n",
       "      <td>ServoDev</td>\n",
       "      <td>Worldwide</td>\n",
       "      <td>None</td>\n",
       "      <td>None</td>\n",
       "    </tr>\n",
       "    <tr>\n",
       "      <th>927</th>\n",
       "      <td>deep_beige</td>\n",
       "      <td>Joe Don Baker Museum</td>\n",
       "      <td>None</td>\n",
       "      <td>None</td>\n",
       "    </tr>\n",
       "    <tr>\n",
       "      <th>489</th>\n",
       "      <td>VikkiHouldenPhD</td>\n",
       "      <td>CSAP, Geography, Leeds</td>\n",
       "      <td>None</td>\n",
       "      <td>None</td>\n",
       "    </tr>\n",
       "    <tr>\n",
       "      <th>722</th>\n",
       "      <td>NewUrbanism</td>\n",
       "      <td>District of Columbia, USA, &amp; worldwide</td>\n",
       "      <td>None</td>\n",
       "      <td>None</td>\n",
       "    </tr>\n",
       "  </tbody>\n",
       "</table>\n",
       "</div>"
      ],
      "text/plain": [
       "          screen_name                                location  city country\n",
       "94         eliquorice                              Beach City  None    None\n",
       "1112          jtauber              Esperance / Perth / Boston  None    None\n",
       "308     suneelgokhale                    United Arab Emirates  None    None\n",
       "393     NASAPersevere                     Jezero Crater, Mars  None    None\n",
       "301      EndowCapital                          Europe, Africa  None    None\n",
       "1145  akronisticlotor                              On the 72R  None    None\n",
       "1843    gutenberg_org            University of North Carolina  None    None\n",
       "580           LeonYin                                     www  None    None\n",
       "763       warmshowers                               worldwide  None    None\n",
       "228      running_tide                        Casco Bay, Maine  None    None\n",
       "1763       Ettema_lab                              Wageningen  None    None\n",
       "281   southpoleglobal                                  Global  None    None\n",
       "362    VanessaBBastos                   St Andrews,  Scotland  None    None\n",
       "490      maciej_jerzy                 Leyden, The Netherlands  None    None\n",
       "1766          firefox                      All over the world  None    None\n",
       "106     pythonwebconf                              Everywhere  None    None\n",
       "748       cool_effect                           Greenbrae, CA  None    None\n",
       "1737    ShapeShift_io                                   ✨🌎🌍🌏✨  None    None\n",
       "255    DmitryTrofimov                         München, Bayern  None    None\n",
       "140           rastrau                      Switzerland, ZH×SG  None    None\n",
       "1819      wetherallm1                          Saint Paul, MN  None    None\n",
       "1441      SenatorMeow              Flavortown Autonomous Zone  None    None\n",
       "1382     ProfBrianCox           The Earth, with everyone else  None    None\n",
       "313          dsaezgil                         California, USA  None    None\n",
       "1009           glasnt                            Eora Country  None    None\n",
       "1741      iamdevloper                                      UK  None    None\n",
       "1557         ServoDev                               Worldwide  None    None\n",
       "927        deep_beige                    Joe Don Baker Museum  None    None\n",
       "489   VikkiHouldenPhD                  CSAP, Geography, Leeds  None    None\n",
       "722       NewUrbanism  District of Columbia, USA, & worldwide  None    None"
      ]
     },
     "execution_count": 13,
     "metadata": {},
     "output_type": "execute_result"
    }
   ],
   "source": [
    "missed.sample(30)"
   ]
  },
  {
   "cell_type": "code",
   "execution_count": null,
   "metadata": {},
   "outputs": [],
   "source": []
  },
  {
   "cell_type": "code",
   "execution_count": 110,
   "metadata": {
    "tags": []
   },
   "outputs": [],
   "source": [
    "# with pd.option_context('display.max_rows', None):\n",
    "#     display(missed)"
   ]
  },
  {
   "cell_type": "code",
   "execution_count": 111,
   "metadata": {},
   "outputs": [],
   "source": [
    "# with pd.option_context('display.max_rows', None):\n",
    "#     display(res_df_dropna[~res_df_dropna['country'].isna()])"
   ]
  },
  {
   "cell_type": "code",
   "execution_count": null,
   "metadata": {},
   "outputs": [],
   "source": []
  },
  {
   "cell_type": "code",
   "execution_count": null,
   "metadata": {},
   "outputs": [],
   "source": []
  },
  {
   "cell_type": "code",
   "execution_count": null,
   "metadata": {},
   "outputs": [],
   "source": []
  },
  {
   "cell_type": "code",
   "execution_count": null,
   "metadata": {},
   "outputs": [],
   "source": []
  },
  {
   "cell_type": "code",
   "execution_count": null,
   "metadata": {},
   "outputs": [],
   "source": []
  },
  {
   "cell_type": "markdown",
   "metadata": {},
   "source": [
    "## GeoCoding with Web"
   ]
  },
  {
   "cell_type": "code",
   "execution_count": 1,
   "metadata": {},
   "outputs": [],
   "source": [
    "from geopy.geocoders import Nominatim"
   ]
  },
  {
   "cell_type": "code",
   "execution_count": null,
   "metadata": {},
   "outputs": [],
   "source": [
    "geolocator = Nominatim(user_agent=\"twitter-tools\")"
   ]
  },
  {
   "cell_type": "code",
   "execution_count": null,
   "metadata": {},
   "outputs": [],
   "source": [
    "df = pd.DataFrame(data_coded)"
   ]
  },
  {
   "cell_type": "code",
   "execution_count": null,
   "metadata": {},
   "outputs": [],
   "source": [
    "def get_country(loc):\n",
    "    try:\n",
    "        return loc.split(',')[-1].strip()\n",
    "    except:\n",
    "        return None"
   ]
  },
  {
   "cell_type": "code",
   "execution_count": null,
   "metadata": {},
   "outputs": [],
   "source": [
    "s = df['location_address']\n",
    "df['country'] = s.apply(get_country)"
   ]
  },
  {
   "cell_type": "code",
   "execution_count": null,
   "metadata": {},
   "outputs": [],
   "source": [
    "df.to_csv('data.csv')"
   ]
  },
  {
   "cell_type": "code",
   "execution_count": null,
   "metadata": {},
   "outputs": [],
   "source": [
    "geocoded = {}\n",
    "for item in data_coded:\n",
    "    geocoded[item['location_raw']] = dict(\n",
    "        loc_address=item['location_address'],\n",
    "        loc_latitude=item['location_latitude'],\n",
    "        loc_longitude=item['location_longitude']\n",
    "    )"
   ]
  },
  {
   "cell_type": "code",
   "execution_count": null,
   "metadata": {},
   "outputs": [],
   "source": [
    "with open('geo_cache.json', 'w') as f:\n",
    "    json.dump(geocoded, f)"
   ]
  },
  {
   "cell_type": "code",
   "execution_count": null,
   "metadata": {},
   "outputs": [],
   "source": [
    "def geocode(loc):\n",
    "    location = geolocator.geocode(loc)\n",
    "    if location:\n",
    "        return dict(\n",
    "            loc_address=location.address,\n",
    "            loc_latitude=location.latitude,\n",
    "            loc_longitude=location.longitude\n",
    "        )\n",
    "    return dict(\n",
    "            loc_address=None,\n",
    "            loc_latitude=None,\n",
    "            loc_longitude=None\n",
    "        )"
   ]
  },
  {
   "cell_type": "code",
   "execution_count": null,
   "metadata": {},
   "outputs": [],
   "source": [
    "df_cities = pd.read_csv('../data/simplemaps/worldcities.csv')"
   ]
  },
  {
   "cell_type": "code",
   "execution_count": null,
   "metadata": {},
   "outputs": [],
   "source": [
    "data_coded = []\n",
    "for screen_name, location in data:\n",
    "    country = geocode_simplemaps(location)\n",
    "    data_coded.append(dict(\n",
    "        screen_name=screen_name,\n",
    "        location=location,\n",
    "        country=country\n",
    "    ))"
   ]
  },
  {
   "cell_type": "code",
   "execution_count": null,
   "metadata": {},
   "outputs": [],
   "source": [
    "pd.DataFrame(data_coded).country.unique()"
   ]
  },
  {
   "cell_type": "code",
   "execution_count": null,
   "metadata": {},
   "outputs": [],
   "source": [
    "df['location'].apply(geocode_simplemaps)"
   ]
  },
  {
   "cell_type": "code",
   "execution_count": null,
   "metadata": {},
   "outputs": [],
   "source": [
    "data_coded = []\n",
    "for screen_name, loc in tqdm(data):\n",
    "    entry = dict(screen_name=screen_name, location_raw=loc)\n",
    "    # check cache\n",
    "    if loc in geocoded:\n",
    "        geo_vals = geocoded[loc]\n",
    "    else:\n",
    "        geo_vals = geocode(loc)\n",
    "    data_coded.append({**entry, **geo_vals})"
   ]
  },
  {
   "cell_type": "code",
   "execution_count": null,
   "metadata": {},
   "outputs": [],
   "source": []
  },
  {
   "cell_type": "code",
   "execution_count": null,
   "metadata": {},
   "outputs": [],
   "source": []
  },
  {
   "cell_type": "code",
   "execution_count": null,
   "metadata": {},
   "outputs": [],
   "source": []
  },
  {
   "cell_type": "code",
   "execution_count": null,
   "metadata": {},
   "outputs": [],
   "source": []
  },
  {
   "cell_type": "code",
   "execution_count": null,
   "metadata": {},
   "outputs": [],
   "source": []
  },
  {
   "cell_type": "markdown",
   "metadata": {},
   "source": [
    "### GeoJSON"
   ]
  },
  {
   "cell_type": "code",
   "execution_count": 14,
   "metadata": {},
   "outputs": [],
   "source": [
    "with open('../data/worldgeo.json') as f:\n",
    "    geojson = json.load(f)"
   ]
  },
  {
   "cell_type": "code",
   "execution_count": 18,
   "metadata": {},
   "outputs": [
    {
     "data": {
      "text/plain": [
       "{'type': 'Feature',\n",
       " 'properties': {'scalerank': 1,\n",
       "  'featurecla': 'Admin-0 country',\n",
       "  'labelrank': 6,\n",
       "  'sovereignt': 'Belize',\n",
       "  'sov_a3': 'BLZ',\n",
       "  'adm0_dif': 0,\n",
       "  'level': 2,\n",
       "  'type': 'Sovereign country',\n",
       "  'admin': 'Belize',\n",
       "  'adm0_a3': 'BLZ',\n",
       "  'geou_dif': 0,\n",
       "  'geounit': 'Belize',\n",
       "  'gu_a3': 'BLZ',\n",
       "  'su_dif': 0,\n",
       "  'subunit': 'Belize',\n",
       "  'su_a3': 'BLZ',\n",
       "  'brk_diff': 0,\n",
       "  'name': 'Belize',\n",
       "  'name_long': 'Belize',\n",
       "  'brk_a3': 'BLZ',\n",
       "  'brk_name': 'Belize',\n",
       "  'brk_group': None,\n",
       "  'abbrev': 'Belize',\n",
       "  'postal': 'BZ',\n",
       "  'formal_en': 'Belize',\n",
       "  'formal_fr': None,\n",
       "  'note_adm0': None,\n",
       "  'note_brk': None,\n",
       "  'name_sort': 'Belize',\n",
       "  'name_alt': None,\n",
       "  'mapcolor7': 1,\n",
       "  'mapcolor8': 4,\n",
       "  'mapcolor9': 5,\n",
       "  'mapcolor13': 7,\n",
       "  'pop_est': 307899,\n",
       "  'gdp_md_est': 2536,\n",
       "  'pop_year': -99,\n",
       "  'lastcensus': 2010,\n",
       "  'gdp_year': -99,\n",
       "  'economy': '6. Developing region',\n",
       "  'income_grp': '4. Lower middle income',\n",
       "  'wikipedia': -99,\n",
       "  'fips_10': None,\n",
       "  'iso_a2': 'BZ',\n",
       "  'iso_a3': 'BLZ',\n",
       "  'iso_n3': '084',\n",
       "  'un_a3': '084',\n",
       "  'wb_a2': 'BZ',\n",
       "  'wb_a3': 'BLZ',\n",
       "  'woe_id': -99,\n",
       "  'adm0_a3_is': 'BLZ',\n",
       "  'adm0_a3_us': 'BLZ',\n",
       "  'adm0_a3_un': -99,\n",
       "  'adm0_a3_wb': -99,\n",
       "  'continent': 'North America',\n",
       "  'region_un': 'Americas',\n",
       "  'subregion': 'Central America',\n",
       "  'region_wb': 'Latin America & Caribbean',\n",
       "  'name_len': 6,\n",
       "  'long_len': 6,\n",
       "  'abbrev_len': 6,\n",
       "  'tiny': -99,\n",
       "  'homepart': 1,\n",
       "  'filename': 'BLZ.geojson'},\n",
       " 'geometry': {'type': 'Polygon',\n",
       "  'coordinates': [[[-89.14308041050332, 17.80831899664932],\n",
       "    [-89.15090938999553, 17.95546763760042],\n",
       "    [-89.02985734735182, 18.001511338772488],\n",
       "    [-88.84834387892661, 17.883198147040233],\n",
       "    [-88.49012285027935, 18.486830552641603],\n",
       "    [-88.3000310940937, 18.4999822046599],\n",
       "    [-88.29633622918482, 18.35327281338327],\n",
       "    [-88.10681291375437, 18.348673610909287],\n",
       "    [-88.1234785631685, 18.07667470954101],\n",
       "    [-88.2853549873228, 17.644142971258034],\n",
       "    [-88.19786678745265, 17.489475409408456],\n",
       "    [-88.30264075392444, 17.131693630435663],\n",
       "    [-88.23951799187991, 17.036066392479555],\n",
       "    [-88.35542822951057, 16.530774237529627],\n",
       "    [-88.55182451043585, 16.265467434143147],\n",
       "    [-88.73243364129594, 16.233634751851355],\n",
       "    [-88.93061275913527, 15.887273464415074],\n",
       "    [-89.22912167026928, 15.88693756760517],\n",
       "    [-89.15080603713095, 17.015576687075836],\n",
       "    [-89.14308041050332, 17.80831899664932]]]}}"
      ]
     },
     "execution_count": 18,
     "metadata": {},
     "output_type": "execute_result"
    }
   ],
   "source": [
    "# geojson[\"features\"][0]"
   ]
  },
  {
   "cell_type": "code",
   "execution_count": 11,
   "metadata": {},
   "outputs": [
    {
     "data": {
      "text/plain": [
       "['Belize',\n",
       " 'Canada',\n",
       " 'The Bahamas',\n",
       " 'Cuba',\n",
       " 'Dominican Republic',\n",
       " 'Denmark',\n",
       " 'Guatemala',\n",
       " 'Haiti',\n",
       " 'Costa Rica',\n",
       " 'Honduras',\n",
       " 'Mexico',\n",
       " 'Nicaragua',\n",
       " 'Panama',\n",
       " 'Jamaica',\n",
       " 'United States of America',\n",
       " 'United States of America',\n",
       " 'El Salvador',\n",
       " 'Trinidad and Tobago',\n",
       " 'Argentina',\n",
       " 'Bolivia',\n",
       " 'Chile',\n",
       " 'Guyana',\n",
       " 'Colombia',\n",
       " 'Brazil',\n",
       " 'Peru',\n",
       " 'Ecuador',\n",
       " 'Afghanistan',\n",
       " 'United Arab Emirates',\n",
       " 'Armenia',\n",
       " 'Azerbaijan',\n",
       " 'Bangladesh',\n",
       " 'United Kingdom',\n",
       " 'Venezuela',\n",
       " 'Suriname',\n",
       " 'Brunei',\n",
       " 'Bhutan',\n",
       " 'China',\n",
       " 'Northern Cyprus',\n",
       " 'Cyprus',\n",
       " 'Paraguay',\n",
       " 'Uruguay',\n",
       " 'Georgia',\n",
       " 'Indonesia',\n",
       " 'India',\n",
       " 'Iran',\n",
       " 'Iraq',\n",
       " 'Israel',\n",
       " 'Jordan',\n",
       " 'Japan',\n",
       " 'Kazakhstan',\n",
       " 'Kyrgyzstan',\n",
       " 'Cambodia',\n",
       " 'South Korea',\n",
       " 'Kuwait',\n",
       " 'Laos',\n",
       " 'Lebanon',\n",
       " 'Sri Lanka',\n",
       " 'Myanmar',\n",
       " 'Mongolia',\n",
       " 'Malaysia',\n",
       " 'Nepal',\n",
       " 'Oman',\n",
       " 'Pakistan',\n",
       " 'Philippines',\n",
       " 'North Korea',\n",
       " 'Saudi Arabia',\n",
       " 'Israel',\n",
       " 'Qatar',\n",
       " 'Syria',\n",
       " 'Thailand',\n",
       " 'Tajikistan',\n",
       " 'Turkmenistan',\n",
       " 'East Timor',\n",
       " 'Turkey',\n",
       " 'Taiwan',\n",
       " 'Uzbekistan',\n",
       " 'Vietnam',\n",
       " 'Yemen',\n",
       " 'Angola',\n",
       " 'Burundi',\n",
       " 'Burkina Faso',\n",
       " 'Botswana',\n",
       " 'Central African Republic',\n",
       " 'Benin',\n",
       " 'Ivory Coast',\n",
       " 'Cameroon',\n",
       " 'Republic of Congo',\n",
       " 'Democratic Republic of the Congo',\n",
       " 'Algeria',\n",
       " 'Djibouti',\n",
       " 'Egypt',\n",
       " 'Guinea',\n",
       " 'Ethiopia',\n",
       " 'Guinea Bissau',\n",
       " 'Gambia',\n",
       " 'Ghana',\n",
       " 'Kenya',\n",
       " 'Eritrea',\n",
       " 'Libya',\n",
       " 'Gabon',\n",
       " 'Liberia',\n",
       " 'Lesotho',\n",
       " 'Equatorial Guinea',\n",
       " 'Morocco',\n",
       " 'Mozambique',\n",
       " 'Mali',\n",
       " 'Mauritania',\n",
       " 'Malawi',\n",
       " 'Namibia',\n",
       " 'Niger',\n",
       " 'Rwanda',\n",
       " 'Nigeria',\n",
       " 'Madagascar',\n",
       " 'South Sudan',\n",
       " 'Sierra Leone',\n",
       " 'Western Sahara',\n",
       " 'Sudan',\n",
       " 'Senegal',\n",
       " 'Somaliland',\n",
       " 'Somalia',\n",
       " 'Chad',\n",
       " 'Uganda',\n",
       " 'Albania',\n",
       " 'Togo',\n",
       " 'South Africa',\n",
       " 'Swaziland',\n",
       " 'Zambia',\n",
       " 'United Republic of Tanzania',\n",
       " 'Austria',\n",
       " 'Belgium',\n",
       " 'Bulgaria',\n",
       " 'Bosnia and Herzegovina',\n",
       " 'Tunisia',\n",
       " 'Belarus',\n",
       " 'Zimbabwe',\n",
       " 'Switzerland',\n",
       " 'Czech Republic',\n",
       " 'Denmark',\n",
       " 'Germany',\n",
       " 'Spain',\n",
       " 'Estonia',\n",
       " 'Finland',\n",
       " 'France',\n",
       " 'United Kingdom',\n",
       " 'Greece',\n",
       " 'Croatia',\n",
       " 'Hungary',\n",
       " 'Ireland',\n",
       " 'Iceland',\n",
       " 'Italy',\n",
       " 'Kosovo',\n",
       " 'Lithuania',\n",
       " 'Luxembourg',\n",
       " 'Latvia',\n",
       " 'Moldova',\n",
       " 'Macedonia',\n",
       " 'Montenegro',\n",
       " 'Netherlands',\n",
       " 'Norway',\n",
       " 'Poland',\n",
       " 'Portugal',\n",
       " 'Romania',\n",
       " 'Russia',\n",
       " 'Republic of Serbia',\n",
       " 'Slovakia',\n",
       " 'Slovenia',\n",
       " 'Sweden',\n",
       " 'Ukraine',\n",
       " 'Australia',\n",
       " 'Fiji',\n",
       " 'France',\n",
       " 'New Zealand',\n",
       " 'Papua New Guinea',\n",
       " 'Solomon Islands',\n",
       " 'Vanuatu']"
      ]
     },
     "execution_count": 11,
     "metadata": {},
     "output_type": "execute_result"
    }
   ],
   "source": [
    "[x['properties']['sovereignt'] for x in geojson['features']]"
   ]
  },
  {
   "cell_type": "code",
   "execution_count": null,
   "metadata": {},
   "outputs": [],
   "source": []
  }
 ],
 "metadata": {
  "kernelspec": {
   "display_name": "Python 3",
   "language": "python",
   "name": "python3"
  },
  "language_info": {
   "codemirror_mode": {
    "name": "ipython",
    "version": 3
   },
   "file_extension": ".py",
   "mimetype": "text/x-python",
   "name": "python",
   "nbconvert_exporter": "python",
   "pygments_lexer": "ipython3",
   "version": "3.8.5"
  }
 },
 "nbformat": 4,
 "nbformat_minor": 4
}
