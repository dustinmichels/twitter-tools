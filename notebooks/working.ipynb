{
 "cells": [
  {
   "cell_type": "code",
   "execution_count": 1,
   "metadata": {},
   "outputs": [],
   "source": [
    "import json\n",
    "import os\n",
    "import sys\n",
    "import random\n",
    "\n",
    "import pandas as pd\n",
    "from tqdm import tqdm"
   ]
  },
  {
   "cell_type": "code",
   "execution_count": 2,
   "metadata": {},
   "outputs": [],
   "source": [
    "%load_ext autoreload\n",
    "%autoreload 2\n",
    "\n",
    "sys.path.insert(0, \"..\")\n",
    "from twittertools.geocode import (\n",
    "    load_friends_data, load_city_data, load_state_data,\n",
    "    geocode_simplemaps, lookup_index, test,\n",
    ")"
   ]
  },
  {
   "cell_type": "markdown",
   "metadata": {},
   "source": [
    "## Geocode with SimpleMaps"
   ]
  },
  {
   "cell_type": "code",
   "execution_count": 3,
   "metadata": {},
   "outputs": [
    {
     "data": {
      "text/plain": [
       "1884"
      ]
     },
     "execution_count": 3,
     "metadata": {},
     "output_type": "execute_result"
    }
   ],
   "source": [
    "data = load_friends_data()\n",
    "len(data)"
   ]
  },
  {
   "cell_type": "code",
   "execution_count": 4,
   "metadata": {},
   "outputs": [],
   "source": [
    "# s = pd.Series(data)\n",
    "# data = list(s.sample(n=1000))\n",
    "# len(data)"
   ]
  },
  {
   "cell_type": "code",
   "execution_count": 116,
   "metadata": {},
   "outputs": [],
   "source": [
    "city_df = load_city_data()"
   ]
  },
  {
   "cell_type": "code",
   "execution_count": null,
   "metadata": {},
   "outputs": [],
   "source": []
  },
  {
   "cell_type": "code",
   "execution_count": 6,
   "metadata": {},
   "outputs": [
    {
     "name": "stderr",
     "output_type": "stream",
     "text": [
      "100%|██████████| 1884/1884 [00:05<00:00, 325.86it/s]\n"
     ]
    }
   ],
   "source": [
    "data_coded = []\n",
    "for screen_name, location in tqdm(data):\n",
    "    res = geocode_simplemaps(location)\n",
    "    city, country = lookup_index(res)  # could return (None, None)\n",
    "    data_coded.append(\n",
    "        dict(screen_name=screen_name, location=location, city=city, country=country)\n",
    "    )\n",
    "res_df = pd.DataFrame(data_coded)"
   ]
  },
  {
   "cell_type": "code",
   "execution_count": 12,
   "metadata": {},
   "outputs": [],
   "source": [
    "res_df.to_csv(\"found.csv\", index=False)"
   ]
  },
  {
   "cell_type": "code",
   "execution_count": null,
   "metadata": {},
   "outputs": [],
   "source": []
  },
  {
   "cell_type": "markdown",
   "metadata": {},
   "source": [
    "### Compute Scores"
   ]
  },
  {
   "cell_type": "code",
   "execution_count": 8,
   "metadata": {},
   "outputs": [
    {
     "name": "stdout",
     "output_type": "stream",
     "text": [
      "Including empty:\n",
      "Success: 922/1884 = 48.94%\n",
      "\n",
      "Excluding empty:\n",
      "Success: 922/1482 = 62.21%\n"
     ]
    }
   ],
   "source": [
    "SCORES = []\n",
    "\n",
    "numerator = len(res_df[~res_df['country'].isna()])\n",
    "denomiator = len(res_df['country'])\n",
    "\n",
    "# without nas\n",
    "res_df_dropna = res_df[res_df['location'] != \"\"]\n",
    "numerator2 = len(res_df_dropna[~res_df_dropna['country'].isna()])\n",
    "denomiator2 = len(res_df_dropna['country'])\n",
    "\n",
    "print(\"Including empty:\")\n",
    "print(f\"Success: {numerator}/{denomiator} = \" + \"{:.2%}\".format(numerator / denomiator))\n",
    "\n",
    "print(\"\\nExcluding empty:\")\n",
    "print(f\"Success: {numerator2}/{denomiator2} = \" + \"{:.2%}\".format(numerator2 / denomiator2))\n",
    "\n",
    "SCORES.append(numerator2 / denomiator2)"
   ]
  },
  {
   "cell_type": "code",
   "execution_count": null,
   "metadata": {},
   "outputs": [],
   "source": []
  },
  {
   "cell_type": "code",
   "execution_count": 7,
   "metadata": {},
   "outputs": [],
   "source": [
    "# df_cities[df_cities['city'].str.contains(\"st.\", regex=False)]"
   ]
  },
  {
   "cell_type": "code",
   "execution_count": 9,
   "metadata": {},
   "outputs": [
    {
     "data": {
      "text/plain": [
       "560"
      ]
     },
     "execution_count": 9,
     "metadata": {},
     "output_type": "execute_result"
    }
   ],
   "source": [
    "missed = res_df_dropna[res_df_dropna['country'].isna()]\n",
    "len(missed)"
   ]
  },
  {
   "cell_type": "code",
   "execution_count": 10,
   "metadata": {},
   "outputs": [
    {
     "data": {
      "text/html": [
       "<div>\n",
       "<style scoped>\n",
       "    .dataframe tbody tr th:only-of-type {\n",
       "        vertical-align: middle;\n",
       "    }\n",
       "\n",
       "    .dataframe tbody tr th {\n",
       "        vertical-align: top;\n",
       "    }\n",
       "\n",
       "    .dataframe thead th {\n",
       "        text-align: right;\n",
       "    }\n",
       "</style>\n",
       "<table border=\"1\" class=\"dataframe\">\n",
       "  <thead>\n",
       "    <tr style=\"text-align: right;\">\n",
       "      <th></th>\n",
       "      <th>screen_name</th>\n",
       "      <th>location</th>\n",
       "      <th>city</th>\n",
       "      <th>country</th>\n",
       "    </tr>\n",
       "  </thead>\n",
       "  <tbody>\n",
       "    <tr>\n",
       "      <th>1617</th>\n",
       "      <td>Atrios</td>\n",
       "      <td>Toon</td>\n",
       "      <td>None</td>\n",
       "      <td>None</td>\n",
       "    </tr>\n",
       "    <tr>\n",
       "      <th>1503</th>\n",
       "      <td>wkamaubell</td>\n",
       "      <td>Sheltering in Place</td>\n",
       "      <td>None</td>\n",
       "      <td>None</td>\n",
       "    </tr>\n",
       "    <tr>\n",
       "      <th>1413</th>\n",
       "      <td>djangoproject</td>\n",
       "      <td>Web</td>\n",
       "      <td>None</td>\n",
       "      <td>None</td>\n",
       "    </tr>\n",
       "    <tr>\n",
       "      <th>1002</th>\n",
       "      <td>nicolesjchung</td>\n",
       "      <td>Instagram: @nicolesjchung</td>\n",
       "      <td>None</td>\n",
       "      <td>None</td>\n",
       "    </tr>\n",
       "    <tr>\n",
       "      <th>956</th>\n",
       "      <td>FFF_goteborg</td>\n",
       "      <td>Göteborg</td>\n",
       "      <td>None</td>\n",
       "      <td>None</td>\n",
       "    </tr>\n",
       "    <tr>\n",
       "      <th>661</th>\n",
       "      <td>AdaLovelaceInst</td>\n",
       "      <td>United Kingdom</td>\n",
       "      <td>None</td>\n",
       "      <td>None</td>\n",
       "    </tr>\n",
       "    <tr>\n",
       "      <th>1024</th>\n",
       "      <td>jbenedictbrown</td>\n",
       "      <td>Vännäs, Sverige</td>\n",
       "      <td>None</td>\n",
       "      <td>None</td>\n",
       "    </tr>\n",
       "    <tr>\n",
       "      <th>1778</th>\n",
       "      <td>brandon_rhodes</td>\n",
       "      <td>Bluffton, Ohio</td>\n",
       "      <td>None</td>\n",
       "      <td>None</td>\n",
       "    </tr>\n",
       "    <tr>\n",
       "      <th>714</th>\n",
       "      <td>annaraven</td>\n",
       "      <td>Sillycon Valley</td>\n",
       "      <td>None</td>\n",
       "      <td>None</td>\n",
       "    </tr>\n",
       "    <tr>\n",
       "      <th>182</th>\n",
       "      <td>GailSimone</td>\n",
       "      <td>I need more dice</td>\n",
       "      <td>None</td>\n",
       "      <td>None</td>\n",
       "    </tr>\n",
       "    <tr>\n",
       "      <th>1202</th>\n",
       "      <td>CivisAnalytics</td>\n",
       "      <td>Chicago | DC</td>\n",
       "      <td>None</td>\n",
       "      <td>None</td>\n",
       "    </tr>\n",
       "    <tr>\n",
       "      <th>98</th>\n",
       "      <td>NOAAResearch</td>\n",
       "      <td>US</td>\n",
       "      <td>None</td>\n",
       "      <td>None</td>\n",
       "    </tr>\n",
       "    <tr>\n",
       "      <th>1361</th>\n",
       "      <td>gabydvj</td>\n",
       "      <td>🇨🇴</td>\n",
       "      <td>None</td>\n",
       "      <td>None</td>\n",
       "    </tr>\n",
       "    <tr>\n",
       "      <th>1470</th>\n",
       "      <td>chancethedev</td>\n",
       "      <td>North Park, San Diego</td>\n",
       "      <td>None</td>\n",
       "      <td>None</td>\n",
       "    </tr>\n",
       "    <tr>\n",
       "      <th>1316</th>\n",
       "      <td>6Gems</td>\n",
       "      <td>Bay Area</td>\n",
       "      <td>None</td>\n",
       "      <td>None</td>\n",
       "    </tr>\n",
       "    <tr>\n",
       "      <th>865</th>\n",
       "      <td>HopeLongmont</td>\n",
       "      <td>804 S. Lincoln Street</td>\n",
       "      <td>None</td>\n",
       "      <td>None</td>\n",
       "    </tr>\n",
       "    <tr>\n",
       "      <th>1629</th>\n",
       "      <td>nena_esun</td>\n",
       "      <td>ma Mewika</td>\n",
       "      <td>None</td>\n",
       "      <td>None</td>\n",
       "    </tr>\n",
       "    <tr>\n",
       "      <th>1107</th>\n",
       "      <td>Chris_arnade</td>\n",
       "      <td>In a McDonald's somewhere</td>\n",
       "      <td>None</td>\n",
       "      <td>None</td>\n",
       "    </tr>\n",
       "    <tr>\n",
       "      <th>180</th>\n",
       "      <td>tunguz</td>\n",
       "      <td>United States</td>\n",
       "      <td>None</td>\n",
       "      <td>None</td>\n",
       "    </tr>\n",
       "    <tr>\n",
       "      <th>1684</th>\n",
       "      <td>AOC</td>\n",
       "      <td>Bronx + Queens, NYC</td>\n",
       "      <td>None</td>\n",
       "      <td>None</td>\n",
       "    </tr>\n",
       "    <tr>\n",
       "      <th>772</th>\n",
       "      <td>singkirbysing</td>\n",
       "      <td>WHERE THE LIGHT IS.</td>\n",
       "      <td>None</td>\n",
       "      <td>None</td>\n",
       "    </tr>\n",
       "    <tr>\n",
       "      <th>938</th>\n",
       "      <td>sveaskog</td>\n",
       "      <td>Sverige</td>\n",
       "      <td>None</td>\n",
       "      <td>None</td>\n",
       "    </tr>\n",
       "    <tr>\n",
       "      <th>589</th>\n",
       "      <td>recifs</td>\n",
       "      <td>Sur la carte de France</td>\n",
       "      <td>None</td>\n",
       "      <td>None</td>\n",
       "    </tr>\n",
       "    <tr>\n",
       "      <th>765</th>\n",
       "      <td>trustroots</td>\n",
       "      <td>Earth</td>\n",
       "      <td>None</td>\n",
       "      <td>None</td>\n",
       "    </tr>\n",
       "    <tr>\n",
       "      <th>152</th>\n",
       "      <td>GeoPythonConf</td>\n",
       "      <td>Worldwide, online</td>\n",
       "      <td>None</td>\n",
       "      <td>None</td>\n",
       "    </tr>\n",
       "    <tr>\n",
       "      <th>1007</th>\n",
       "      <td>__mharrison__</td>\n",
       "      <td>SLC, Ut</td>\n",
       "      <td>None</td>\n",
       "      <td>None</td>\n",
       "    </tr>\n",
       "    <tr>\n",
       "      <th>471</th>\n",
       "      <td>JamesBerghan</td>\n",
       "      <td>Dunedin City, New Zealand</td>\n",
       "      <td>None</td>\n",
       "      <td>None</td>\n",
       "    </tr>\n",
       "    <tr>\n",
       "      <th>724</th>\n",
       "      <td>SilvrSpookGames</td>\n",
       "      <td>Hawaii, USA</td>\n",
       "      <td>None</td>\n",
       "      <td>None</td>\n",
       "    </tr>\n",
       "    <tr>\n",
       "      <th>1001</th>\n",
       "      <td>DynamicWebPaige</td>\n",
       "      <td>179°56′39.4″, +0°2′46.2″ 8k pc</td>\n",
       "      <td>None</td>\n",
       "      <td>None</td>\n",
       "    </tr>\n",
       "    <tr>\n",
       "      <th>1485</th>\n",
       "      <td>TheNorthStar</td>\n",
       "      <td>United States</td>\n",
       "      <td>None</td>\n",
       "      <td>None</td>\n",
       "    </tr>\n",
       "  </tbody>\n",
       "</table>\n",
       "</div>"
      ],
      "text/plain": [
       "          screen_name                        location  city country\n",
       "1617           Atrios                            Toon  None    None\n",
       "1503       wkamaubell             Sheltering in Place  None    None\n",
       "1413    djangoproject                             Web  None    None\n",
       "1002    nicolesjchung       Instagram: @nicolesjchung  None    None\n",
       "956      FFF_goteborg                        Göteborg  None    None\n",
       "661   AdaLovelaceInst                  United Kingdom  None    None\n",
       "1024   jbenedictbrown                 Vännäs, Sverige  None    None\n",
       "1778   brandon_rhodes                  Bluffton, Ohio  None    None\n",
       "714         annaraven                 Sillycon Valley  None    None\n",
       "182        GailSimone                I need more dice  None    None\n",
       "1202   CivisAnalytics                    Chicago | DC  None    None\n",
       "98       NOAAResearch                              US  None    None\n",
       "1361          gabydvj                              🇨🇴  None    None\n",
       "1470     chancethedev           North Park, San Diego  None    None\n",
       "1316            6Gems                        Bay Area  None    None\n",
       "865      HopeLongmont           804 S. Lincoln Street  None    None\n",
       "1629        nena_esun                       ma Mewika  None    None\n",
       "1107     Chris_arnade       In a McDonald's somewhere  None    None\n",
       "180            tunguz                   United States  None    None\n",
       "1684              AOC             Bronx + Queens, NYC  None    None\n",
       "772     singkirbysing             WHERE THE LIGHT IS.  None    None\n",
       "938          sveaskog                         Sverige  None    None\n",
       "589            recifs          Sur la carte de France  None    None\n",
       "765        trustroots                           Earth  None    None\n",
       "152     GeoPythonConf               Worldwide, online  None    None\n",
       "1007    __mharrison__                         SLC, Ut  None    None\n",
       "471      JamesBerghan       Dunedin City, New Zealand  None    None\n",
       "724   SilvrSpookGames                     Hawaii, USA  None    None\n",
       "1001  DynamicWebPaige  179°56′39.4″, +0°2′46.2″ 8k pc  None    None\n",
       "1485     TheNorthStar                   United States  None    None"
      ]
     },
     "execution_count": 10,
     "metadata": {},
     "output_type": "execute_result"
    }
   ],
   "source": [
    "missed.sample(30)"
   ]
  },
  {
   "cell_type": "code",
   "execution_count": null,
   "metadata": {},
   "outputs": [],
   "source": []
  },
  {
   "cell_type": "code",
   "execution_count": 110,
   "metadata": {
    "tags": []
   },
   "outputs": [],
   "source": [
    "# with pd.option_context('display.max_rows', None):\n",
    "#     display(missed)"
   ]
  },
  {
   "cell_type": "code",
   "execution_count": 111,
   "metadata": {},
   "outputs": [],
   "source": [
    "# with pd.option_context('display.max_rows', None):\n",
    "#     display(res_df_dropna[~res_df_dropna['country'].isna()])"
   ]
  },
  {
   "cell_type": "code",
   "execution_count": null,
   "metadata": {},
   "outputs": [],
   "source": []
  },
  {
   "cell_type": "code",
   "execution_count": null,
   "metadata": {},
   "outputs": [],
   "source": []
  },
  {
   "cell_type": "code",
   "execution_count": null,
   "metadata": {},
   "outputs": [],
   "source": []
  },
  {
   "cell_type": "code",
   "execution_count": null,
   "metadata": {},
   "outputs": [],
   "source": []
  },
  {
   "cell_type": "code",
   "execution_count": null,
   "metadata": {},
   "outputs": [],
   "source": []
  },
  {
   "cell_type": "markdown",
   "metadata": {},
   "source": [
    "## GeoCoding with Web"
   ]
  },
  {
   "cell_type": "code",
   "execution_count": 1,
   "metadata": {},
   "outputs": [],
   "source": [
    "from geopy.geocoders import Nominatim"
   ]
  },
  {
   "cell_type": "code",
   "execution_count": null,
   "metadata": {},
   "outputs": [],
   "source": [
    "geolocator = Nominatim(user_agent=\"twitter-tools\")"
   ]
  },
  {
   "cell_type": "code",
   "execution_count": null,
   "metadata": {},
   "outputs": [],
   "source": [
    "df = pd.DataFrame(data_coded)"
   ]
  },
  {
   "cell_type": "code",
   "execution_count": null,
   "metadata": {},
   "outputs": [],
   "source": [
    "def get_country(loc):\n",
    "    try:\n",
    "        return loc.split(',')[-1].strip()\n",
    "    except:\n",
    "        return None"
   ]
  },
  {
   "cell_type": "code",
   "execution_count": null,
   "metadata": {},
   "outputs": [],
   "source": [
    "s = df['location_address']\n",
    "df['country'] = s.apply(get_country)"
   ]
  },
  {
   "cell_type": "code",
   "execution_count": null,
   "metadata": {},
   "outputs": [],
   "source": [
    "df.to_csv('data.csv')"
   ]
  },
  {
   "cell_type": "code",
   "execution_count": null,
   "metadata": {},
   "outputs": [],
   "source": [
    "geocoded = {}\n",
    "for item in data_coded:\n",
    "    geocoded[item['location_raw']] = dict(\n",
    "        loc_address=item['location_address'],\n",
    "        loc_latitude=item['location_latitude'],\n",
    "        loc_longitude=item['location_longitude']\n",
    "    )"
   ]
  },
  {
   "cell_type": "code",
   "execution_count": null,
   "metadata": {},
   "outputs": [],
   "source": [
    "with open('geo_cache.json', 'w') as f:\n",
    "    json.dump(geocoded, f)"
   ]
  },
  {
   "cell_type": "code",
   "execution_count": null,
   "metadata": {},
   "outputs": [],
   "source": [
    "def geocode(loc):\n",
    "    location = geolocator.geocode(loc)\n",
    "    if location:\n",
    "        return dict(\n",
    "            loc_address=location.address,\n",
    "            loc_latitude=location.latitude,\n",
    "            loc_longitude=location.longitude\n",
    "        )\n",
    "    return dict(\n",
    "            loc_address=None,\n",
    "            loc_latitude=None,\n",
    "            loc_longitude=None\n",
    "        )"
   ]
  },
  {
   "cell_type": "code",
   "execution_count": null,
   "metadata": {},
   "outputs": [],
   "source": [
    "df_cities = pd.read_csv('../data/simplemaps/worldcities.csv')"
   ]
  },
  {
   "cell_type": "code",
   "execution_count": null,
   "metadata": {},
   "outputs": [],
   "source": [
    "data_coded = []\n",
    "for screen_name, location in data:\n",
    "    country = geocode_simplemaps(location)\n",
    "    data_coded.append(dict(\n",
    "        screen_name=screen_name,\n",
    "        location=location,\n",
    "        country=country\n",
    "    ))"
   ]
  },
  {
   "cell_type": "code",
   "execution_count": null,
   "metadata": {},
   "outputs": [],
   "source": [
    "pd.DataFrame(data_coded).country.unique()"
   ]
  },
  {
   "cell_type": "code",
   "execution_count": null,
   "metadata": {},
   "outputs": [],
   "source": [
    "df['location'].apply(geocode_simplemaps)"
   ]
  },
  {
   "cell_type": "code",
   "execution_count": null,
   "metadata": {},
   "outputs": [],
   "source": [
    "data_coded = []\n",
    "for screen_name, loc in tqdm(data):\n",
    "    entry = dict(screen_name=screen_name, location_raw=loc)\n",
    "    # check cache\n",
    "    if loc in geocoded:\n",
    "        geo_vals = geocoded[loc]\n",
    "    else:\n",
    "        geo_vals = geocode(loc)\n",
    "    data_coded.append({**entry, **geo_vals})"
   ]
  },
  {
   "cell_type": "code",
   "execution_count": null,
   "metadata": {},
   "outputs": [],
   "source": []
  },
  {
   "cell_type": "code",
   "execution_count": null,
   "metadata": {},
   "outputs": [],
   "source": []
  },
  {
   "cell_type": "code",
   "execution_count": null,
   "metadata": {},
   "outputs": [],
   "source": []
  },
  {
   "cell_type": "code",
   "execution_count": null,
   "metadata": {},
   "outputs": [],
   "source": []
  },
  {
   "cell_type": "code",
   "execution_count": null,
   "metadata": {},
   "outputs": [],
   "source": []
  },
  {
   "cell_type": "markdown",
   "metadata": {},
   "source": [
    "### GeoJSON"
   ]
  },
  {
   "cell_type": "code",
   "execution_count": 71,
   "metadata": {},
   "outputs": [],
   "source": [
    "with open('../data/worldgeo.json') as f:\n",
    "    geojson = json.load(f)"
   ]
  },
  {
   "cell_type": "markdown",
   "metadata": {},
   "source": [
    "#### Add data"
   ]
  },
  {
   "cell_type": "code",
   "execution_count": 91,
   "metadata": {},
   "outputs": [],
   "source": [
    "df = pd.read_csv(\"found.csv\")"
   ]
  },
  {
   "cell_type": "code",
   "execution_count": 108,
   "metadata": {},
   "outputs": [],
   "source": [
    "counts = df[[\"screen_name\", \"country\"]].groupby(by='country').count()[\"screen_name\"]"
   ]
  },
  {
   "cell_type": "code",
   "execution_count": 111,
   "metadata": {},
   "outputs": [],
   "source": [
    "for feature in geojson[\"features\"]:\n",
    "    props = feature[\"properties\"]\n",
    "    if props[\"name\"] in counts:\n",
    "        props[\"count\"] = int(counts[props[\"name\"]])"
   ]
  },
  {
   "cell_type": "code",
   "execution_count": 112,
   "metadata": {},
   "outputs": [
    {
     "data": {
      "text/plain": [
       "7"
      ]
     },
     "execution_count": 112,
     "metadata": {},
     "output_type": "execute_result"
    }
   ],
   "source": [
    "checkname = \"Denmark\"\n",
    "\n",
    "counts[checkname]"
   ]
  },
  {
   "cell_type": "code",
   "execution_count": 113,
   "metadata": {},
   "outputs": [
    {
     "data": {
      "text/plain": [
       "7"
      ]
     },
     "execution_count": 113,
     "metadata": {},
     "output_type": "execute_result"
    }
   ],
   "source": [
    "val = [\n",
    "    x for x in geojson[\"features\"]\n",
    "    if x[\"properties\"][\"name\"] == checkname\n",
    "].pop()\n",
    "val[\"properties\"][\"count\"]"
   ]
  },
  {
   "cell_type": "code",
   "execution_count": 115,
   "metadata": {},
   "outputs": [],
   "source": [
    "with open('../data/worldgeo_export.json', \"w\") as f:\n",
    "    json.dump(geojson, f)"
   ]
  },
  {
   "cell_type": "code",
   "execution_count": null,
   "metadata": {},
   "outputs": [],
   "source": []
  },
  {
   "cell_type": "code",
   "execution_count": null,
   "metadata": {},
   "outputs": [],
   "source": []
  },
  {
   "cell_type": "code",
   "execution_count": 28,
   "metadata": {},
   "outputs": [],
   "source": [
    "# [x['properties']['sovereignt'] for x in geojson['features']]"
   ]
  },
  {
   "cell_type": "code",
   "execution_count": null,
   "metadata": {},
   "outputs": [],
   "source": []
  }
 ],
 "metadata": {
  "kernelspec": {
   "display_name": "Python 3",
   "language": "python",
   "name": "python3"
  },
  "language_info": {
   "codemirror_mode": {
    "name": "ipython",
    "version": 3
   },
   "file_extension": ".py",
   "mimetype": "text/x-python",
   "name": "python",
   "nbconvert_exporter": "python",
   "pygments_lexer": "ipython3",
   "version": "3.8.5"
  }
 },
 "nbformat": 4,
 "nbformat_minor": 4
}
